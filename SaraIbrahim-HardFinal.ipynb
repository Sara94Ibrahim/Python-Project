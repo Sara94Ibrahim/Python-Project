{
 "cells": [
  {
   "cell_type": "code",
   "execution_count": 76,
   "metadata": {},
   "outputs": [
    {
     "name": "stdout",
     "output_type": "stream",
     "text": [
      "['1', '1', '1', '1', '1', '1', '1', '1', '1', '1', '1', '1', '1', '1', '1', '1', '61']\n"
     ]
    }
   ],
   "source": [
    "f = open ('stu_19.dat')\n",
    "#Reading all the lines\n",
    "line = f.readlines()\n",
    "\n",
    "#Identifying the starting position for each query position and creating a list\n",
    "loc = []   \n",
    "\n",
    "#Creating strings to Extract the first Sample (Hap_A) and the second Sample (Hap_B) sequence\n",
    "Hap_A, Hap_B = '', ''  \n",
    "\n",
    "#Creating lists for all starting positions and mutations\n",
    "loc_all, HAs, HBs = [], [], [] \n",
    "\n",
    "#identification of the line that holds the query sequence and the number of the current starting position\n",
    "for pos, val in enumerate(line):\n",
    "        if 'Query_' in val:\n",
    "            loc.append(line[pos].split()[1])  #marking position 1 that has the starting position of each patient\n",
    "            Hap_A += (line[pos+1].split())[2] #marking position 2 that has the sequence for both samples\n",
    "            Hap_B += (line[pos+2].split())[2]\n",
    "        if 'Matrix' in val:     # Keywork indicating the last line for each patient's data \n",
    "            loc_all.append(loc[0])\n",
    "            HAs.append(Hap_A)\n",
    "            HBs.append(Hap_B)\n",
    "            Hap_A, Hap_B, loc = '', '', []\n",
    "            \n",
    "#The last patient starts from 61 \n",
    "print(loc_all)\n",
    "#confirmed"
   ]
  },
  {
   "cell_type": "code",
   "execution_count": 103,
   "metadata": {},
   "outputs": [],
   "source": [
    "#mutation positions: T134A, A443G, G769C, G955C, A990C, G1051A, G1078T, T1941A, T2138C, G2638T and A3003T\n",
    "#sequences = HAs or HBs (sequences in all the samples)\n",
    "#location = location of the mutation\n",
    "#Putting these different parts of the mutation testing into one definition to make it easier to calculate\n",
    "#Defining the function of the mutation testing\n",
    "\n",
    "def Mutation(number, sequences, location): \n",
    "    mutation = []  #empty list to be appended \n",
    "    \n",
    "    for pos, val in enumerate(sequences): \n",
    "        pos_l = int(location[pos])             \n",
    "#if statement to find the mutation in the position and its number\n",
    "        if val[number-pos_l] !='.':\n",
    "            mutation.append(pos)                 #filling the empty list from before with the values \n",
    "    \n",
    "    return mutation\n",
    "\n",
    "#Ending the function    \n"
   ]
  },
  {
   "cell_type": "code",
   "execution_count": 105,
   "metadata": {},
   "outputs": [
    {
     "name": "stdout",
     "output_type": "stream",
     "text": [
      "    \tT134A\tA443G\tG769C\tG955C\tA990C\tG1051A\tG1078T\tT1941A\tT2138C\tG2638T\tA3003T\n",
      "pat01\t1\t1\t1\t0\t1\t2\t2\t0\t1\t0\t1\n",
      "pat02\t0\t1\t1\t0\t1\t1\t1\t0\t0\t0\t1\n",
      "pat03\t0\t0\t0\t0\t0\t0\t0\t0\t0\t0\t1\n",
      "pat04\t2\t2\t0\t1\t1\t0\t0\t2\t2\t1\t1\n",
      "pat05\t1\t0\t0\t0\t1\t1\t1\t0\t0\t0\t1\n",
      "pat06\t1\t2\t1\t1\t1\t2\t2\t0\t0\t0\t1\n",
      "pat07\t0\t0\t1\t0\t1\t1\t1\t1\t1\t0\t1\n",
      "pat08\t0\t0\t1\t1\t1\t2\t2\t0\t1\t0\t1\n",
      "pat09\t0\t1\t1\t0\t1\t2\t2\t0\t0\t0\t1\n",
      "pat10\t1\t0\t1\t0\t1\t2\t2\t0\t0\t1\t1\n",
      "pat11\t0\t0\t0\t1\t1\t2\t2\t0\t0\t0\t1\n",
      "pat12\t0\t0\t1\t0\t1\t2\t2\t0\t0\t0\t1\n",
      "pat13\t1\t1\t1\t0\t1\t2\t2\t0\t1\t0\t1\n",
      "pat14\t0\t1\t0\t0\t1\t1\t1\t1\t0\t1\t1\n",
      "pat15\t0\t2\t1\t0\t1\t2\t2\t0\t0\t0\t1\n",
      "pat16\t2\t2\t0\t1\t1\t0\t0\t2\t2\t1\t1\n",
      "pat17\t0\t1\t1\t0\t1\t2\t2\t0\t0\t0\t1\n"
     ]
    }
   ],
   "source": [
    "#no difference from the reference is 0\n",
    "#heterozygous (only appearing in one allele/hap) is 1, homozygous (both alleles) is 2\n",
    "#printing the header\n",
    "print (f\"{' ':^4}\\t{'T134A': ^4}\\t{'A443G': ^4}\\t{'G769C': ^4}\\t{'G955C': ^4}\\t{'A990C': ^4}\\t{'G1051A': ^4}\\t{'G1078T': ^4}\\t{'T1941A': ^4}\\t{'T2138C': ^4}\\t{'G2638T': ^4}\\t{'A3003T': ^4}\")\n",
    "\n",
    "#muation number list\n",
    "Mutnum_lst = [134, 443, 769, 955, 990, 1051, 1078, 1941, 2138, 2638, 3003] \n",
    "\n",
    "#Since the length of both samples is the same\n",
    "for patient in range(len(HAs)):\n",
    "    lst =[]\n",
    "    r = 0\n",
    "#identifying the mutation in all locations for all patients\n",
    "    for m in Mutnum_lst:\n",
    "        if patient in Mutation(Mutnum_lst[r], HAs, loc_all) and patient in Mutation(Mutnum_lst[r], HBs, loc_all):\n",
    "                         lst.append('2')\n",
    "        elif patient in Mutation(Mutnum_lst[r], HAs, loc_all) or patient in Mutation(Mutnum_lst[r], HBs, loc_all):\n",
    "                         lst.append('1')\n",
    "        else:\n",
    "                         lst.append('0')\n",
    "        r += 1\n",
    "    print(f'pat{patient+1:02d}\\t{lst[0]}\\t{lst[1]}\\t{lst[2]}\\t{lst[3]}\\t{lst[4]}\\t{lst[5]}\\t{lst[6]}\\t{lst[7]}\\t{lst[8]}\\t{lst[9]}\\t{lst[10]}') \n",
    "\n",
    "#1:02d because I only want two digits"
   ]
  },
  {
   "cell_type": "code",
   "execution_count": 104,
   "metadata": {},
   "outputs": [
    {
     "name": "stdout",
     "output_type": "stream",
     "text": [
      "    \tT134A\tA443G\tG769C\tG955C\tA990C\tG1051A\tG1078T\tT1941A\tT2138C\tG2638T\tA3003T\n",
      "pat01\t1\t1\t1\t0\t1\t2\t2\t0\t1\t0\t1\n",
      "pat02\t0\t1\t1\t0\t1\t1\t1\t0\t0\t0\t1\n",
      "pat03\t0\t0\t0\t0\t0\t0\t0\t0\t0\t0\t1\n",
      "pat04\t2\t2\t0\t1\t1\t0\t0\t2\t2\t1\t1\n",
      "pat05\t1\t0\t0\t0\t1\t1\t1\t0\t0\t0\t1\n",
      "pat06\t1\t2\t1\t1\t1\t2\t2\t0\t0\t0\t1\n",
      "pat07\t0\t0\t1\t0\t1\t1\t1\t1\t1\t0\t1\n",
      "pat08\t0\t0\t1\t1\t1\t2\t2\t0\t1\t0\t1\n",
      "pat09\t0\t1\t1\t0\t1\t2\t2\t0\t0\t0\t1\n",
      "pat10\t1\t0\t1\t0\t1\t2\t2\t0\t0\t1\t1\n",
      "pat11\t0\t0\t0\t1\t1\t2\t2\t0\t0\t0\t1\n",
      "pat12\t0\t0\t1\t0\t1\t2\t2\t0\t0\t0\t1\n",
      "pat13\t1\t1\t1\t0\t1\t2\t2\t0\t1\t0\t1\n",
      "pat14\t0\t1\t0\t0\t1\t1\t1\t1\t0\t1\t1\n",
      "pat15\t0\t2\t1\t0\t1\t2\t2\t0\t0\t0\t1\n",
      "pat16\t2\t2\t0\t1\t1\t0\t0\t2\t2\t1\t1\n",
      "pat17\t0\t1\t1\t0\t1\t2\t2\t0\t0\t0\t1\n"
     ]
    }
   ],
   "source": [
    "#Clean version of the code\n",
    "f = open ('stu_19.dat')\n",
    "line = f.readlines()\n",
    "#Identifying the starting position for each query position and creating a list\n",
    "loc = []         \n",
    "#Creating strings to Extract Sample A (Hap_A) and Sample B (Hap_B) sequence\n",
    "Hap_A, Hap_B = '', ''  \n",
    "#Creating lists for all starting positions and mutations\n",
    "loc_all, HAs, HBs = [], [], []  \n",
    "for pos, val in enumerate(line):\n",
    "        if 'Query_' in val:\n",
    "            loc.append(line[pos].split()[1])  \n",
    "            Hap_A += (line[pos+1].split())[2] \n",
    "            Hap_B += (line[pos+2].split())[2]\n",
    "        if 'Matrix' in val:      \n",
    "            loc_all.append(loc[0])\n",
    "            HAs.append(Hap_A)\n",
    "            HBs.append(Hap_B)\n",
    "            Hap_A, Hap_B, loc = '', '', []\n",
    "\n",
    "#Putting these different parts of the mutation testing into one definition to make it easier to calculate\n",
    "def Mutation(number, sequences, location): \n",
    "    mutation = []  #empty list to be appended \n",
    "    \n",
    "    for pos, val in enumerate(sequences): \n",
    "        pos_l = int(location[pos])             \n",
    "        if val[number-pos_l] !='.':\n",
    "            mutation.append(pos)                 #filling the empty list from before with the values \n",
    "    \n",
    "    return mutation\n",
    "print (f\"{' ':^4}\\t{'T134A': ^4}\\t{'A443G': ^4}\\t{'G769C': ^4}\\t{'G955C': ^4}\\t{'A990C': ^4}\\t{'G1051A': ^4}\\t{'G1078T': ^4}\\t{'T1941A': ^4}\\t{'T2138C': ^4}\\t{'G2638T': ^4}\\t{'A3003T': ^4}\")\n",
    "#muation number list\n",
    "Mutnum_lst = [134, 443, 769, 955, 990, 1051, 1078, 1941, 2138, 2638, 3003] \n",
    "for patient in range(len(HAs)):\n",
    "    lst =[]\n",
    "    r = 0\n",
    "    for m in Mutnum_lst:\n",
    "        if patient in Mutation(Mutnum_lst[r], HAs, loc_all) and patient in Mutation(Mutnum_lst[r], HBs, loc_all):\n",
    "                         lst.append('2')\n",
    "        elif patient in Mutation(Mutnum_lst[r], HAs, loc_all) or patient in Mutation(Mutnum_lst[r], HBs, loc_all):\n",
    "                         lst.append('1')\n",
    "        else:\n",
    "                         lst.append('0')\n",
    "        r += 1\n",
    "    print(f'pat{patient+1:02d}\\t{lst[0]}\\t{lst[1]}\\t{lst[2]}\\t{lst[3]}\\t{lst[4]}\\t{lst[5]}\\t{lst[6]}\\t{lst[7]}\\t{lst[8]}\\t{lst[9]}\\t{lst[10]}') \n"
   ]
  },
  {
   "cell_type": "code",
   "execution_count": null,
   "metadata": {},
   "outputs": [],
   "source": []
  }
 ],
 "metadata": {
  "kernelspec": {
   "display_name": "Python 3",
   "language": "python",
   "name": "python3"
  },
  "language_info": {
   "codemirror_mode": {
    "name": "ipython",
    "version": 3
   },
   "file_extension": ".py",
   "mimetype": "text/x-python",
   "name": "python",
   "nbconvert_exporter": "python",
   "pygments_lexer": "ipython3",
   "version": "3.8.10"
  }
 },
 "nbformat": 4,
 "nbformat_minor": 4
}
