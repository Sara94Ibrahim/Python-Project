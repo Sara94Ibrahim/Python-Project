{
 "cells": [
  {
   "cell_type": "code",
   "execution_count": 51,
   "metadata": {},
   "outputs": [],
   "source": [
    "#Reading the original file to create a new file for only the first patient's data\n",
    "with open('stu_19.dat') as f_all:    \n",
    "    pat01 = []   #Extracting data of the first patient\n",
    "    for line in f_all:\n",
    "        pat01.append(line) \n",
    "        if 'Matrix' in line: break  #Keyword indicating the finish line of the first patient's data\n",
    " #Creating a new file\n",
    "    f_pat01 = open('stu19_pat01.dat','w')\n",
    "    f_pat01.write(''.join(pat01))\n",
    "    f_pat01.close()   \n"
   ]
  },
  {
   "cell_type": "code",
   "execution_count": 54,
   "metadata": {},
   "outputs": [
    {
     "name": "stdout",
     "output_type": "stream",
     "text": [
      "['1', '61', '121', '181', '241', '301', '361', '421', '481', '541', '601', '661', '721', '781', '841', '901', '961', '1021', '1081', '1141', '1201', '1261', '1321', '1381', '1441', '1501', '1561', '1621', '1681', '1741', '1801', '1861', '1921', '1981', '2041', '2101', '2161', '2221', '2281', '2341', '2401', '2461', '2521', '2581', '2641', '2701', '2761', '2821', '2881', '2941', '3001', '3061', '3121']\n"
     ]
    }
   ],
   "source": [
    "#Labelling each line that holds query sequence\n",
    "#Extracting first line (SampleA) and second line (SampleB) Sequences\n",
    "SampleA, SampleB = '', '' \n",
    "#Identifying starting positions for each query line.\n",
    "loc=[] \n",
    "\n",
    "with open ('stu19_pat01.dat') as fo:\n",
    "    line = fo.readlines()\n",
    "    for pos, val in enumerate(line):\n",
    "        if 'Query_' in val:\n",
    "            loc += line[pos].split()[1::4]    #read the first line each four lines\n",
    "            SampleA += line[pos+1].split()[2] #marking the position for only the sequence in each sample line\n",
    "            SampleB += line[pos+2].split()[2]\n",
    "Sample_A= list(SampleA)\n",
    "Sample_B = list(SampleB)\n",
    "print(loc)"
   ]
  },
  {
   "cell_type": "code",
   "execution_count": 55,
   "metadata": {},
   "outputs": [
    {
     "name": "stdout",
     "output_type": "stream",
     "text": [
      "Sample A:\n",
      "134 267 339 345 393 396 405 417 471 597 627 990 1044 1047 1050 1051 1056 1059 1062 1071 1078 1104 1113 1236 1245 1347 1348 1353 1356 1407 1416 1494 1581 1588 1596 1647 1659 1665 1680 1707 1749 1773 1776 1809 1845 1857 1872 1914 1923 1956 1971 1995 2052 2082 2124 2138 2157 2193 2199 2205 2211 2244 2256 2301 2307 2406 2427 2430 2433 2445 2457 2475 2481 2484 2496 2511 2514 2517 2523 2529 2559 2565 2577 2590 2592 2595 2601 2607 2614 2616 2619 2628 2661 2688 2692 2694 2697 2700 2718 2769 2772 2775 2784 2796 \n",
      " \n",
      "Sample B:\n",
      "252 267 300 339 357 393 396 405 417 443 471 597 627 769 1044 1047 1050 1051 1056 1059 1062 1071 1078 1104 1113 1236 1245 1347 1348 1353 1356 1407 1416 1494 1581 1602 1647 1653 1660 1674 1677 1680 1707 1761 1773 1776 1809 1857 1863 1914 1917 1923 1956 1989 2052 2082 2124 2157 2193 2199 2205 2211 2244 2256 2301 2307 2403 2406 2424 2427 2430 2433 2445 2457 2475 2481 2484 2496 2511 2514 2523 2529 2550 2559 2565 2577 2583 2590 2592 2595 2607 2614 2616 2620 2628 2649 2661 2670 2688 2691 2694 2695 2697 2700 2709 2718 2772 2775 2805 2865 2872 2886 2904 2919 2934 2976 2991 3003 3009 3042 3054 3066 3105 3109 3111 3135 \n"
     ]
    }
   ],
   "source": [
    "#an empty string for all Sample A\n",
    "ASTR = '' \n",
    "#an empty string for all Sample B\n",
    "BSTR =''  \n",
    "#Finding first line (SampleA) mutation positions\n",
    "for i in range(len(Sample_A)):\n",
    "    if \".\" not in Sample_A[i]:\n",
    "        ASTR = ASTR +str(i+int(loc[0]))  +  ' '\n",
    "#Finding second line (SampleB) mutation positions\n",
    "for i in range(len(Sample_B)):  \n",
    "    if Sample_B[i] != '.':\n",
    "        BSTR = BSTR + str(i+int(loc[0])) + ' '\n",
    "print('Sample A:')         \n",
    "print (ASTR)\n",
    "print (' ')\n",
    "print ('Sample B:')\n",
    "print(BSTR)"
   ]
  },
  {
   "cell_type": "code",
   "execution_count": null,
   "metadata": {},
   "outputs": [],
   "source": []
  }
 ],
 "metadata": {
  "kernelspec": {
   "display_name": "Python 3",
   "language": "python",
   "name": "python3"
  },
  "language_info": {
   "codemirror_mode": {
    "name": "ipython",
    "version": 3
   },
   "file_extension": ".py",
   "mimetype": "text/x-python",
   "name": "python",
   "nbconvert_exporter": "python",
   "pygments_lexer": "ipython3",
   "version": "3.8.10"
  }
 },
 "nbformat": 4,
 "nbformat_minor": 4
}
